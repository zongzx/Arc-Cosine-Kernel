{
 "cells": [
  {
   "cell_type": "code",
   "execution_count": 1,
   "metadata": {},
   "outputs": [],
   "source": [
    "import numpy as np\n",
    "import tensorflow as tf\n",
    "\n",
    "from Util.arc_cosine_kernel import Arc_Cosine_Kernel\n",
    "from Util.random_relu_network import Single_Layer_Relu_Network\n",
    "from Util.random_relu_network import Random_Relu_Network\n",
    "\n",
    "import matplotlib.pyplot as plt\n",
    "\n",
    "from sklearn.svm import SVC\n",
    "from sklearn.model_selection import train_test_split\n",
    "from sklearn.metrics import pairwise\n",
    "from sklearn.linear_model import SGDClassifier"
   ]
  },
  {
   "cell_type": "markdown",
   "metadata": {},
   "source": [
    "# Random Feature VS Exact Arc Cosine Kernel"
   ]
  },
  {
   "cell_type": "code",
   "execution_count": 2,
   "metadata": {},
   "outputs": [
    {
     "name": "stderr",
     "output_type": "stream",
     "text": [
      "2022-02-20 01:47:28.992803: I tensorflow/compiler/jit/xla_cpu_device.cc:41] Not creating XLA devices, tf_xla_enable_xla_devices not set\n",
      "2022-02-20 01:47:28.993065: I tensorflow/core/platform/cpu_feature_guard.cc:142] This TensorFlow binary is optimized with oneAPI Deep Neural Network Library (oneDNN) to use the following CPU instructions in performance-critical operations:  SSE4.1 SSE4.2 AVX AVX2 FMA\n",
      "To enable them in other operations, rebuild TensorFlow with the appropriate compiler flags.\n",
      "2022-02-20 01:47:28.994106: I tensorflow/core/common_runtime/process_util.cc:146] Creating new thread pool with default inter op setting: 2. Tune using inter_op_parallelism_threads for best performance.\n"
     ]
    }
   ],
   "source": [
    "n_samples = 5000\n",
    "\n",
    "width_list = [10, 100, 1000, 10000]\n",
    "dimension_list = [10, 100, 1000, 10000]\n",
    "residue_results = np.zeros((len(dimension_list), len(width_list)))\n",
    "\n",
    "for i, dimension in enumerate(dimension_list):\n",
    "    x = np.random.normal(0, 1, (n_samples, dimension))\n",
    "    y = np.random.normal(0, 1, (n_samples, dimension))\n",
    "    ACOS_K = Arc_Cosine_Kernel(order=1)\n",
    "    ground_truth = ACOS_K.kernel_function(x, y)\n",
    "    for j, width in enumerate(width_list):\n",
    "        Random_Relu_Net = Single_Layer_Relu_Network(width)\n",
    "        approx = tf.linalg.matmul(Random_Relu_Net.output(x), Random_Relu_Net.output(y), transpose_b=True)\n",
    "        residue_results[i, j] = tf.keras.metrics.mean_squared_error(tf.reshape(ground_truth, (-1,)), tf.reshape(approx, (-1,)))"
   ]
  },
  {
   "cell_type": "markdown",
   "metadata": {},
   "source": [
    "Visualize Error"
   ]
  },
  {
   "cell_type": "code",
   "execution_count": 3,
   "metadata": {},
   "outputs": [
    {
     "data": {
      "image/png": "[encoded data removed]",
      "text/plain": [
       "<Figure size 360x288 with 1 Axes>"
      ]
     },
     "metadata": {
      "needs_background": "light"
     },
     "output_type": "display_data"
    }
   ],
   "source": [
    "fig = plt.figure(figsize=(5, 4))\n",
    "ax = fig.add_subplot(1, 1, 1)\n",
    "ax.set_title(\"Random Feature VS Exact Arc Cosine Kernel\")\n",
    "ax.set_xticks(np.arange(0, len(width_list), 1))\n",
    "ax.set_xticklabels(width_list)\n",
    "ax.set_xlabel(\"Width\")\n",
    "ax.set_ylabel(\"Error\")\n",
    "ax.set_yscale('log')\n",
    "              \n",
    "for i, dimension in enumerate(dimension_list):\n",
    "    ax.scatter(np.arange(0, len(dimension_list), 1), residue_results[i,:].reshape(-1,), label=\"Input Dimension: \"+str(dimension))\n",
    "    ax.plot(residue_results[i,:].reshape(-1,), label=\"Input Dimension: \"+str(dimension))\n",
    "ax.legend()\n",
    "plt.show()"
   ]
  },
  {
   "cell_type": "markdown",
   "metadata": {},
   "source": [
    "# Arc-Cosine Kernel on (partial) MNIST"
   ]
  },
  {
   "cell_type": "markdown",
   "metadata": {},
   "source": [
    "Load data"
   ]
  },
  {
   "cell_type": "code",
   "execution_count": 2,
   "metadata": {},
   "outputs": [],
   "source": [
    "mnist = tf.keras.datasets.mnist\n",
    "(x_train, y_train), (x_test, y_test) = mnist.load_data()\n",
    "x_train, x_test = x_train / 255.0, x_test / 255.0"
   ]
  },
  {
   "cell_type": "markdown",
   "metadata": {},
   "source": [
    "Select two numbers. Randomly select $3$ and $8$ (with no reason, just randomly)"
   ]
  },
  {
   "cell_type": "code",
   "execution_count": 3,
   "metadata": {},
   "outputs": [],
   "source": [
    "train_index = np.logical_or(y_train==3, y_train==8)\n",
    "test_index = np.logical_or(y_test==3, y_test==8)\n",
    "x_train = x_train[train_index]\n",
    "y_train = y_train[train_index]\n",
    "x_test = x_test[test_index]\n",
    "y_test = y_test[test_index]"
   ]
  },
  {
   "cell_type": "markdown",
   "metadata": {},
   "source": [
    "Reshape"
   ]
  },
  {
   "cell_type": "code",
   "execution_count": 4,
   "metadata": {},
   "outputs": [],
   "source": [
    "x_train = x_train.reshape((x_train.shape[0], -1))\n",
    "x_test = x_test.reshape((x_test.shape[0], -1))\n",
    "y_train = y_train.reshape((y_train.shape[0],))\n",
    "y_test = y_test.reshape((y_test.shape[0],))"
   ]
  },
  {
   "cell_type": "markdown",
   "metadata": {},
   "source": [
    "Test Kernels"
   ]
  },
  {
   "cell_type": "code",
   "execution_count": 7,
   "metadata": {},
   "outputs": [
    {
     "data": {
      "text/plain": [
       "0.9944556451612904"
      ]
     },
     "execution_count": 7,
     "metadata": {},
     "output_type": "execute_result"
    }
   ],
   "source": [
    "ACOS_K = Arc_Cosine_Kernel(order=1)\n",
    "clf = SVC(kernel=ACOS_K.kernel_function)\n",
    "clf.fit(x_train, y_train)\n",
    "clf.score(x_test, y_test, sample_weight=None)"
   ]
  },
  {
   "cell_type": "code",
   "execution_count": 20,
   "metadata": {},
   "outputs": [
    {
     "data": {
      "text/plain": [
       "0.9889112903225806"
      ]
     },
     "execution_count": 20,
     "metadata": {},
     "output_type": "execute_result"
    }
   ],
   "source": [
    "width_list = [1e4 for _ in range(2)]\n",
    "Random_Relu_Net = Random_Relu_Network(width_list=width_list)\n",
    "clf = SVC(kernel=Random_Relu_Net.kernel_function)\n",
    "clf.fit(x_train, y_train)\n",
    "clf.score(x_test, y_test, sample_weight=None)"
   ]
  },
  {
   "cell_type": "code",
   "execution_count": 21,
   "metadata": {},
   "outputs": [
    {
     "data": {
      "text/plain": [
       "0.9929435483870968"
      ]
     },
     "execution_count": 21,
     "metadata": {},
     "output_type": "execute_result"
    }
   ],
   "source": [
    "Single_Layer_Relu_Net = Single_Layer_Relu_Network(width=1e4)\n",
    "clf = SVC(kernel=Single_Layer_Relu_Net.kernel_function)\n",
    "clf.fit(x_train, y_train)\n",
    "clf.score(x_test, y_test, sample_weight=None)"
   ]
  },
  {
   "cell_type": "markdown",
   "metadata": {},
   "source": [
    "Test SGD"
   ]
  },
  {
   "cell_type": "code",
   "execution_count": 24,
   "metadata": {},
   "outputs": [
    {
     "data": {
      "text/plain": [
       "0.9596774193548387"
      ]
     },
     "execution_count": 24,
     "metadata": {},
     "output_type": "execute_result"
    }
   ],
   "source": [
    "clf = SGDClassifier(max_iter=1000, tol=1e-3)\n",
    "clf.fit(x_train, y_train)\n",
    "clf.score(x_test, y_test, sample_weight=None)"
   ]
  },
  {
   "cell_type": "code",
   "execution_count": 38,
   "metadata": {},
   "outputs": [
    {
     "data": {
      "text/plain": [
       "0.9465725806451613"
      ]
     },
     "execution_count": 38,
     "metadata": {},
     "output_type": "execute_result"
    }
   ],
   "source": [
    "Single_Layer_Relu_Net = Single_Layer_Relu_Network(width=1e2)\n",
    "x_train_map = Single_Layer_Relu_Net.output(x_train)\n",
    "x_test_map = Single_Layer_Relu_Net.output(x_test)\n",
    "clf = SGDClassifier(max_iter=1000, tol=1e-3)\n",
    "clf.fit(x_train_map, y_train)\n",
    "clf.score(x_test_map, y_test, sample_weight=None)"
   ]
  },
  {
   "cell_type": "code",
   "execution_count": 39,
   "metadata": {},
   "outputs": [
    {
     "data": {
      "text/plain": [
       "0.9349798387096774"
      ]
     },
     "execution_count": 39,
     "metadata": {},
     "output_type": "execute_result"
    }
   ],
   "source": [
    "width_list = [1e2 for _ in range(2)]\n",
    "Random_Relu_Net = Random_Relu_Network(width_list=width_list)\n",
    "x_train_map = Random_Relu_Net.output(x_train)\n",
    "x_test_map = Random_Relu_Net.output(x_test)\n",
    "clf = SGDClassifier(max_iter=1000, tol=1e-3)\n",
    "clf.fit(x_train_map, y_train)\n",
    "clf.score(x_test_map, y_test, sample_weight=None)"
   ]
  }
 ],
 "metadata": {
  "kernelspec": {
   "display_name": "my_tf",
   "language": "python",
   "name": "my_tf"
  },
  "language_info": {
   "codemirror_mode": {
    "name": "ipython",
    "version": 3
   },
   "file_extension": ".py",
   "mimetype": "text/x-python",
   "name": "python",
   "nbconvert_exporter": "python",
   "pygments_lexer": "ipython3",
   "version": "3.7.11"
  }
 },
 "nbformat": 4,
 "nbformat_minor": 2
}
